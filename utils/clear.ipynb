{
 "cells": [
  {
   "cell_type": "code",
   "execution_count": 1,
   "metadata": {},
   "outputs": [
    {
     "name": "stdout",
     "output_type": "stream",
     "text": [
      "Collecting markdown\n",
      "  Downloading Markdown-3.5.2-py3-none-any.whl.metadata (7.0 kB)\n",
      "Downloading Markdown-3.5.2-py3-none-any.whl (103 kB)\n",
      "\u001b[2K   \u001b[38;2;114;156;31m━━━━━━━━━━━━━━━━━━━━━━━━━━━━━━━━━━━━━━━\u001b[0m \u001b[32m103.9/103.9 kB\u001b[0m \u001b[31m354.7 kB/s\u001b[0m eta \u001b[36m0:00:00\u001b[0m[36m0:00:01\u001b[0mm eta \u001b[36m0:00:01\u001b[0m\n",
      "\u001b[?25hInstalling collected packages: markdown\n",
      "Successfully installed markdown-3.5.2\n",
      "Note: you may need to restart the kernel to use updated packages.\n"
     ]
    }
   ],
   "source": [
    "pip install markdown"
   ]
  },
  {
   "cell_type": "code",
   "execution_count": 6,
   "metadata": {},
   "outputs": [
    {
     "name": "stdout",
     "output_type": "stream",
     "text": [
      "Processed Markdown content has been saved to './output/output5.md'.\n"
     ]
    }
   ],
   "source": [
    "import re\n",
    "\n",
    "def remove_unwanted_text(markdown_text):\n",
    "    # 使用正则表达式匹配并去除页码描述，例如 \"第 5 页 共 340 页\"\n",
    "    # markdown_text = re.sub(r'第\\s+\\d+\\s+页\\s+共\\s+\\d+\\s+页', '', markdown_text)\n",
    "\n",
    "    # # 使用正则表达式匹配并去除Markdown分割线\n",
    "    # markdown_text = re.sub(r'(^[-*_]{3,}\\s*$)+', '', markdown_text, flags=re.MULTILINE)\n",
    "\n",
    "    # # 去除每一行末尾的空格\n",
    "    # markdown_text = re.sub(r'[ \\t]+$', '', markdown_text, flags=re.MULTILINE)\n",
    "\n",
    "    # # 去除多余的空行（连续两行或更多的空行）\n",
    "    # markdown_text = re.sub(r'\\n{2,}', '\\n\\n', markdown_text)\n",
    "    \n",
    "    markdown_text = re.sub(r'<([^>]*)>', r'【\\1】', markdown_text)\n",
    "\n",
    "    # markdown_text = re.sub(r'-{5,}', '\\n\\n', markdown_text)\n",
    "\n",
    "\n",
    "    return markdown_text\n",
    "\n",
    "# 读取Markdown文件\n",
    "file_path = './output/output5.md'\n",
    "with open(file_path, 'r', encoding='utf-8') as file:\n",
    "    content = file.read()\n",
    "\n",
    "# 处理Markdown文件内容\n",
    "processed_content = remove_unwanted_text(content)\n",
    "\n",
    "# 输出处理后的内容到新文件\n",
    "output_file_path = './output/output6.md'\n",
    "with open(output_file_path, 'w', encoding='utf-8') as file:\n",
    "    file.write(processed_content)\n",
    "\n",
    "print(f\"Processed Markdown content has been saved to '{output_file_path}'.\")\n"
   ]
  },
  {
   "cell_type": "markdown",
   "metadata": {},
   "source": []
  },
  {
   "cell_type": "code",
   "execution_count": 4,
   "metadata": {},
   "outputs": [
    {
     "name": "stdout",
     "output_type": "stream",
     "text": [
      "Updated Markdown content has been saved to 'updated_example.md'.\n"
     ]
    }
   ],
   "source": [
    "import re\n",
    "\n",
    "def update_image_paths(markdown_text):\n",
    "    # 使用正则表达式匹配Markdown图片标记，并修改路径\n",
    "    # 假设图片标记遵循格式 ![alt_text](image_name.png)\n",
    "    # 并且图片文件名不包含括号\n",
    "    markdown_text = re.sub(r'!\\[(.*?)\\]\\((?!http)(.*?)\\)', r'![\\1](./image/\\2)', markdown_text)\n",
    "    return markdown_text\n",
    "\n",
    "# 读取Markdown文件\n",
    "file_path = 'processed_example2.md'\n",
    "with open(file_path, 'r', encoding='utf-8') as file:\n",
    "    content = file.read()\n",
    "\n",
    "# 处理Markdown文件内容\n",
    "processed_content = update_image_paths(content)\n",
    "\n",
    "# 输出处理后的内容到新文件\n",
    "output_file_path = 'updated_example.md'\n",
    "with open(output_file_path, 'w', encoding='utf-8') as file:\n",
    "    file.write(processed_content)\n",
    "\n",
    "print(f\"Updated Markdown content has been saved to '{output_file_path}'.\")\n"
   ]
  },
  {
   "cell_type": "code",
   "execution_count": 5,
   "metadata": {},
   "outputs": [
    {
     "name": "stdout",
     "output_type": "stream",
     "text": [
      "Section 1 has been saved to 'split_markdown_files/section_1.md'.\n",
      "Section 2 has been saved to 'split_markdown_files/section_2.md'.\n",
      "Section 3 has been saved to 'split_markdown_files/section_3.md'.\n",
      "Section 4 has been saved to 'split_markdown_files/section_4.md'.\n",
      "Section 5 has been saved to 'split_markdown_files/section_5.md'.\n",
      "Section 6 has been saved to 'split_markdown_files/section_6.md'.\n",
      "Section 7 has been saved to 'split_markdown_files/section_7.md'.\n",
      "Section 8 has been saved to 'split_markdown_files/section_8.md'.\n",
      "Section 9 has been saved to 'split_markdown_files/section_9.md'.\n",
      "Section 10 has been saved to 'split_markdown_files/section_10.md'.\n",
      "Section 11 has been saved to 'split_markdown_files/section_11.md'.\n",
      "Section 12 has been saved to 'split_markdown_files/section_12.md'.\n",
      "Section 13 has been saved to 'split_markdown_files/section_13.md'.\n",
      "Section 14 has been saved to 'split_markdown_files/section_14.md'.\n",
      "Section 15 has been saved to 'split_markdown_files/section_15.md'.\n",
      "Section 16 has been saved to 'split_markdown_files/section_16.md'.\n",
      "Section 17 has been saved to 'split_markdown_files/section_17.md'.\n",
      "Section 18 has been saved to 'split_markdown_files/section_18.md'.\n",
      "Section 19 has been saved to 'split_markdown_files/section_19.md'.\n",
      "Section 20 has been saved to 'split_markdown_files/section_20.md'.\n",
      "Section 21 has been saved to 'split_markdown_files/section_21.md'.\n",
      "Section 22 has been saved to 'split_markdown_files/section_22.md'.\n",
      "Section 23 has been saved to 'split_markdown_files/section_23.md'.\n",
      "Section 24 has been saved to 'split_markdown_files/section_24.md'.\n",
      "Section 25 has been saved to 'split_markdown_files/section_25.md'.\n",
      "Section 26 has been saved to 'split_markdown_files/section_26.md'.\n",
      "Section 27 has been saved to 'split_markdown_files/section_27.md'.\n",
      "Section 28 has been saved to 'split_markdown_files/section_28.md'.\n",
      "Section 29 has been saved to 'split_markdown_files/section_29.md'.\n",
      "Section 30 has been saved to 'split_markdown_files/section_30.md'.\n",
      "Section 31 has been saved to 'split_markdown_files/section_31.md'.\n",
      "Section 32 has been saved to 'split_markdown_files/section_32.md'.\n",
      "Section 33 has been saved to 'split_markdown_files/section_33.md'.\n",
      "Section 34 has been saved to 'split_markdown_files/section_34.md'.\n",
      "Section 35 has been saved to 'split_markdown_files/section_35.md'.\n",
      "Section 36 has been saved to 'split_markdown_files/section_36.md'.\n",
      "Section 37 has been saved to 'split_markdown_files/section_37.md'.\n",
      "Section 38 has been saved to 'split_markdown_files/section_38.md'.\n",
      "Section 39 has been saved to 'split_markdown_files/section_39.md'.\n",
      "Section 40 has been saved to 'split_markdown_files/section_40.md'.\n",
      "Section 41 has been saved to 'split_markdown_files/section_41.md'.\n",
      "Section 42 has been saved to 'split_markdown_files/section_42.md'.\n",
      "Section 43 has been saved to 'split_markdown_files/section_43.md'.\n",
      "Section 44 has been saved to 'split_markdown_files/section_44.md'.\n",
      "Section 45 has been saved to 'split_markdown_files/section_45.md'.\n",
      "Section 46 has been saved to 'split_markdown_files/section_46.md'.\n",
      "Section 47 has been saved to 'split_markdown_files/section_47.md'.\n",
      "Section 48 has been saved to 'split_markdown_files/section_48.md'.\n",
      "Section 49 has been saved to 'split_markdown_files/section_49.md'.\n",
      "Section 50 has been saved to 'split_markdown_files/section_50.md'.\n",
      "Section 51 has been saved to 'split_markdown_files/section_51.md'.\n",
      "Section 52 has been saved to 'split_markdown_files/section_52.md'.\n",
      "Section 53 has been saved to 'split_markdown_files/section_53.md'.\n",
      "Section 54 has been saved to 'split_markdown_files/section_54.md'.\n",
      "Section 55 has been saved to 'split_markdown_files/section_55.md'.\n",
      "Section 56 has been saved to 'split_markdown_files/section_56.md'.\n",
      "Section 57 has been saved to 'split_markdown_files/section_57.md'.\n",
      "Section 58 has been saved to 'split_markdown_files/section_58.md'.\n",
      "Section 59 has been saved to 'split_markdown_files/section_59.md'.\n",
      "Section 60 has been saved to 'split_markdown_files/section_60.md'.\n",
      "Section 61 has been saved to 'split_markdown_files/section_61.md'.\n",
      "Section 62 has been saved to 'split_markdown_files/section_62.md'.\n",
      "Section 63 has been saved to 'split_markdown_files/section_63.md'.\n",
      "Section 64 has been saved to 'split_markdown_files/section_64.md'.\n",
      "Section 65 has been saved to 'split_markdown_files/section_65.md'.\n",
      "Section 66 has been saved to 'split_markdown_files/section_66.md'.\n",
      "Section 67 has been saved to 'split_markdown_files/section_67.md'.\n",
      "Section 68 has been saved to 'split_markdown_files/section_68.md'.\n",
      "Section 69 has been saved to 'split_markdown_files/section_69.md'.\n",
      "Section 70 has been saved to 'split_markdown_files/section_70.md'.\n",
      "Section 71 has been saved to 'split_markdown_files/section_71.md'.\n",
      "Section 72 has been saved to 'split_markdown_files/section_72.md'.\n",
      "Section 73 has been saved to 'split_markdown_files/section_73.md'.\n",
      "Section 74 has been saved to 'split_markdown_files/section_74.md'.\n"
     ]
    }
   ],
   "source": [
    "import re\n",
    "import os\n",
    "\n",
    "def split_markdown_by_continuation_phrase(markdown_text, phrase=\"（待续）\"):\n",
    "    # 使用正则表达式拆分Markdown文本，每次遇到\"（待续）\"时拆分\n",
    "    # 注意：re.split会在结果中保留分隔符，我们将在后面处理\n",
    "    sections = re.split(rf'({phrase})', markdown_text)\n",
    "\n",
    "    # 为了保持\"（待续）\"在每个部分的末尾，我们将其与前面的部分合并\n",
    "    combined_sections = []\n",
    "    for i in range(0, len(sections) - 1, 2):\n",
    "        combined_section = sections[i] + sections[i + 1]\n",
    "        combined_sections.append(combined_section)\n",
    "\n",
    "    return combined_sections\n",
    "\n",
    "# 读取Markdown文件\n",
    "file_path = 'updated_example.md'\n",
    "with open(file_path, 'r', encoding='utf-8') as file:\n",
    "    content = file.read()\n",
    "\n",
    "# 拆分Markdown文件内容\n",
    "split_sections = split_markdown_by_continuation_phrase(content)\n",
    "\n",
    "# 创建一个目录来存储拆分后的文件\n",
    "output_dir = 'split_markdown_files'\n",
    "os.makedirs(output_dir, exist_ok=True)\n",
    "\n",
    "# 将每个部分保存到一个新的Markdown文件中\n",
    "for index, section_content in enumerate(split_sections):\n",
    "    output_file_path = os.path.join(output_dir, f\"section_{index + 1}.md\")\n",
    "    with open(output_file_path, 'w', encoding='utf-8') as file:\n",
    "        file.write(section_content)\n",
    "\n",
    "    print(f\"Section {index + 1} has been saved to '{output_file_path}'.\")\n"
   ]
  }
 ],
 "metadata": {
  "kernelspec": {
   "display_name": ".venv",
   "language": "python",
   "name": "python3"
  },
  "language_info": {
   "codemirror_mode": {
    "name": "ipython",
    "version": 3
   },
   "file_extension": ".py",
   "mimetype": "text/x-python",
   "name": "python",
   "nbconvert_exporter": "python",
   "pygments_lexer": "ipython3",
   "version": "3.10.13"
  }
 },
 "nbformat": 4,
 "nbformat_minor": 2
}
