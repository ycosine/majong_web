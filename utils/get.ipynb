{
 "cells": [
  {
   "cell_type": "code",
   "execution_count": 3,
   "metadata": {},
   "outputs": [
    {
     "name": "stdout",
     "output_type": "stream",
     "text": [
      "Markdown content written to ./output.md\n"
     ]
    }
   ],
   "source": [
    "import fitz  # PyMuPDF\n",
    "from markdownify import markdownify as md\n",
    "import os\n",
    "\n",
    "def pdf_to_markdown(pdf_path, output_folder):\n",
    "    # 确保输出文件夹存在\n",
    "    if not os.path.exists(output_folder):\n",
    "        os.makedirs(output_folder)\n",
    "\n",
    "    # 打开PDF文件\n",
    "    doc = fitz.open(pdf_path)\n",
    "    markdown_content = \"\"\n",
    "\n",
    "    # 遍历每一页\n",
    "    for page_num in range(len(doc)):\n",
    "        page = doc[page_num]\n",
    "\n",
    "        # 提取文本内容\n",
    "        text = page.get_text()\n",
    "        markdown_content += md(text)\n",
    "\n",
    "        # 提取页面中的图片\n",
    "        image_list = page.get_images(full=True)\n",
    "        for img_index, img in enumerate(image_list, start=1):\n",
    "            xref = img[0]\n",
    "            base_image = doc.extract_image(xref)\n",
    "            image_bytes = base_image[\"image\"]\n",
    "            # 构建图片文件名和路径\n",
    "            image_name = f\"image_page{page_num + 1}_{img_index}.png\"\n",
    "            image_path = os.path.join(output_folder, image_name)\n",
    "            # 保存图片\n",
    "            with open(image_path, \"wb\") as image_file:\n",
    "                image_file.write(image_bytes)\n",
    "\n",
    "            # 将图片Markdown标记添加到内容中\n",
    "            markdown_content += f\"![{image_name}]({image_name})\\n\"\n",
    "\n",
    "    # 将Markdown内容写入文件\n",
    "    markdown_file_path = os.path.join(output_folder, \"output.md\")\n",
    "    with open(markdown_file_path, \"w\", encoding=\"utf-8\") as md_file:\n",
    "        md_file.write(markdown_content)\n",
    "\n",
    "    print(f\"Markdown content written to {markdown_file_path}\")\n",
    "\n",
    "# 使用函数\n",
    "pdf_path = \"79.pdf\"  # 替换为你的PDF文件路径\n",
    "output_folder = \"./output/\"  # 替换为你想要的输出文件夹路径\n",
    "pdf_to_markdown(pdf_path, output_folder)\n"
   ]
  },
  {
   "cell_type": "code",
   "execution_count": null,
   "metadata": {},
   "outputs": [],
   "source": []
  }
 ],
 "metadata": {
  "kernelspec": {
   "display_name": ".venv",
   "language": "python",
   "name": "python3"
  },
  "language_info": {
   "codemirror_mode": {
    "name": "ipython",
    "version": 3
   },
   "file_extension": ".py",
   "mimetype": "text/x-python",
   "name": "python",
   "nbconvert_exporter": "python",
   "pygments_lexer": "ipython3",
   "version": "3.10.13"
  }
 },
 "nbformat": 4,
 "nbformat_minor": 2
}
